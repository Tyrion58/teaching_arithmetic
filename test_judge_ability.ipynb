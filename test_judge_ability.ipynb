{
 "cells": [
  {
   "cell_type": "markdown",
   "metadata": {},
   "source": [
    "## 下面测试mixed training best_addition model的judge能力"
   ]
  },
  {
   "cell_type": "code",
   "execution_count": 10,
   "metadata": {},
   "outputs": [
    {
     "name": "stdout",
     "output_type": "stream",
     "text": [
      "number of parameters: 10.66M\n",
      "Loading meta from meta_all_ascii_chars.pkl...\n",
      "evaluating addition from: FILE:data/addition_judge/test_3digit_judge_W1_10000.txt\n"
     ]
    },
    {
     "name": "stderr",
     "output_type": "stream",
     "text": [
      "100%|██████████| 16064/16064 [00:00<00:00, 34033.86it/s]\n",
      "100%|██████████| 131/131 [00:00<00:00, 303.14it/s]\n"
     ]
    },
    {
     "name": "stdout",
     "output_type": "stream",
     "text": [
      "number of parameters: 10.66M\n",
      "Loading meta from meta_all_ascii_chars.pkl...\n",
      "evaluating addition from: FILE:data/addition_judge/test_3digit_judge_W1_10000.txt\n"
     ]
    },
    {
     "name": "stderr",
     "output_type": "stream",
     "text": [
      "100%|██████████| 16064/16064 [00:00<00:00, 44421.60it/s]\n",
      "100%|██████████| 131/131 [00:00<00:00, 303.29it/s]\n"
     ]
    },
    {
     "name": "stdout",
     "output_type": "stream",
     "text": [
      "number of parameters: 10.66M\n",
      "Loading meta from meta_all_ascii_chars.pkl...\n",
      "evaluating addition from: FILE:data/addition_judge/test_3digit_judge_W1_10000.txt\n"
     ]
    },
    {
     "name": "stderr",
     "output_type": "stream",
     "text": [
      "100%|██████████| 16064/16064 [00:00<00:00, 34048.94it/s]\n",
      "100%|██████████| 131/131 [00:00<00:00, 303.98it/s]\n"
     ]
    },
    {
     "name": "stdout",
     "output_type": "stream",
     "text": [
      "number of parameters: 10.66M\n",
      "Loading meta from meta_all_ascii_chars.pkl...\n",
      "evaluating addition from: FILE:data/addition_judge/test_3digit_judge_W1_10000.txt\n"
     ]
    },
    {
     "name": "stderr",
     "output_type": "stream",
     "text": [
      "100%|██████████| 16064/16064 [00:00<00:00, 44249.12it/s]\n",
      "100%|██████████| 131/131 [00:00<00:00, 303.83it/s]\n"
     ]
    },
    {
     "name": "stdout",
     "output_type": "stream",
     "text": [
      "number of parameters: 10.66M\n",
      "Loading meta from meta_all_ascii_chars.pkl...\n",
      "evaluating addition from: FILE:data/addition_judge/test_3digit_judge_W1_10000.txt\n"
     ]
    },
    {
     "name": "stderr",
     "output_type": "stream",
     "text": [
      "100%|██████████| 16064/16064 [00:00<00:00, 44454.16it/s]\n",
      "100%|██████████| 131/131 [00:00<00:00, 301.97it/s]\n"
     ]
    }
   ],
   "source": [
    "from test_utils import *\n",
    "\n",
    "checkpoints_path = './test_out/out-check-mixed-eval-L+W1'\n",
    "nums = [2000, 4000, 6000, 8000, 10000]\n",
    "device = torch.device('cuda' if torch.cuda.is_available() else 'cpu')\n",
    "\n",
    "judge_acc = []\n",
    "\n",
    "for num in nums:\n",
    "    ckpt_path = f'{checkpoints_path}/ckpt_mixed_L+W1_{num}_acc.pt'\n",
    "    tester = model_tester(ckpt_path, mode='judge_op', \n",
    "                          together_test_file='data/addition_judge/test_3digit_judge_W1_10000.txt', mydevice=device, vebrose=False)\n",
    "    pred_accuracy, no_judging_probability, accuracy_dictionary = tester.test_jugdment_together()\n",
    "    judge_acc.append(pred_accuracy)\n",
    "    \n",
    "judge_acc = [0] + judge_acc  # 在开始添加一个零点"
   ]
  },
  {
   "cell_type": "code",
   "execution_count": 13,
   "metadata": {},
   "outputs": [
    {
     "name": "stdout",
     "output_type": "stream",
     "text": [
      "[0, 84.63022908366534, 90.19546812749005, 93.43874501992032, 93.8558266932271, 95.8976593625498]\n"
     ]
    }
   ],
   "source": [
    "print(judge_acc)"
   ]
  },
  {
   "cell_type": "code",
   "execution_count": 16,
   "metadata": {},
   "outputs": [
    {
     "name": "stdout",
     "output_type": "stream",
     "text": [
      "number of parameters: 10.66M\n",
      "Loading meta from meta_all_ascii_chars.pkl...\n",
      "evaluating addition from: FILE:data/addition_judge/test_3digit_judge_W2_10000.txt\n"
     ]
    },
    {
     "name": "stderr",
     "output_type": "stream",
     "text": [
      "100%|██████████| 15954/15954 [00:00<00:00, 44140.55it/s]\n",
      "100%|██████████| 129/129 [00:00<00:00, 301.51it/s]\n"
     ]
    },
    {
     "name": "stdout",
     "output_type": "stream",
     "text": [
      "number of parameters: 10.66M\n",
      "Loading meta from meta_all_ascii_chars.pkl...\n",
      "evaluating addition from: FILE:data/addition_judge/test_3digit_judge_W2_10000.txt\n"
     ]
    },
    {
     "name": "stderr",
     "output_type": "stream",
     "text": [
      "100%|██████████| 15954/15954 [00:00<00:00, 33224.82it/s]\n",
      "100%|██████████| 129/129 [00:00<00:00, 301.39it/s]\n"
     ]
    },
    {
     "name": "stdout",
     "output_type": "stream",
     "text": [
      "number of parameters: 10.66M\n",
      "Loading meta from meta_all_ascii_chars.pkl...\n",
      "evaluating addition from: FILE:data/addition_judge/test_3digit_judge_W2_10000.txt\n"
     ]
    },
    {
     "name": "stderr",
     "output_type": "stream",
     "text": [
      "100%|██████████| 15954/15954 [00:00<00:00, 44339.53it/s]\n",
      "100%|██████████| 129/129 [00:00<00:00, 300.71it/s]\n"
     ]
    },
    {
     "name": "stdout",
     "output_type": "stream",
     "text": [
      "number of parameters: 10.66M\n",
      "Loading meta from meta_all_ascii_chars.pkl...\n",
      "evaluating addition from: FILE:data/addition_judge/test_3digit_judge_W2_10000.txt\n"
     ]
    },
    {
     "name": "stderr",
     "output_type": "stream",
     "text": [
      "100%|██████████| 15954/15954 [00:00<00:00, 44178.55it/s]\n",
      "100%|██████████| 129/129 [00:00<00:00, 301.08it/s]\n"
     ]
    },
    {
     "name": "stdout",
     "output_type": "stream",
     "text": [
      "number of parameters: 10.66M\n",
      "Loading meta from meta_all_ascii_chars.pkl...\n",
      "evaluating addition from: FILE:data/addition_judge/test_3digit_judge_W2_10000.txt\n"
     ]
    },
    {
     "name": "stderr",
     "output_type": "stream",
     "text": [
      "100%|██████████| 15954/15954 [00:00<00:00, 33802.96it/s]\n",
      "100%|██████████| 129/129 [00:00<00:00, 301.32it/s]"
     ]
    },
    {
     "name": "stdout",
     "output_type": "stream",
     "text": [
      "[0, 80.58167230788517, 86.38585934561866, 89.2190046383352, 92.59119969913502, 95.07960386110067]\n"
     ]
    },
    {
     "name": "stderr",
     "output_type": "stream",
     "text": [
      "\n"
     ]
    }
   ],
   "source": [
    "from test_utils import *\n",
    "\n",
    "checkpoints_path = './test_out/out-check-mixed-eval-L+W2'\n",
    "nums = [2000, 4000, 6000, 8000, 10000]\n",
    "device = torch.device('cuda' if torch.cuda.is_available() else 'cpu')\n",
    "\n",
    "judge_acc_W2 = []\n",
    "\n",
    "for num in nums:\n",
    "    ckpt_path = f'{checkpoints_path}/ckpt_mixed_L+W2_{num}_acc.pt'\n",
    "    tester = model_tester(ckpt_path, mode='judge_op', \n",
    "                          together_test_file='data/addition_judge/test_3digit_judge_W2_10000.txt', mydevice=device, vebrose=False)\n",
    "    pred_accuracy, no_judging_probability, accuracy_dictionary = tester.test_jugdment_together()\n",
    "    judge_acc_W2.append(pred_accuracy)\n",
    "    \n",
    "judge_acc_W2= [0] + judge_acc_W2  # 在开始添加一个零点\n",
    "print(judge_acc_W2)"
   ]
  },
  {
   "cell_type": "markdown",
   "metadata": {},
   "source": [
    "## 下面测试mixed training best_judgment model的addition能力"
   ]
  },
  {
   "cell_type": "code",
   "execution_count": 1,
   "metadata": {},
   "outputs": [
    {
     "name": "stdout",
     "output_type": "stream",
     "text": [
      "number of parameters: 10.66M\n",
      "Loading meta from meta_all_ascii_chars.pkl...\n",
      "evaluating addition from: FILE:data/bal/test_3digit_10000.txt\n",
      "Evaluating Addition using test data file: data/bal/test_3digit_10000.txt\n"
     ]
    },
    {
     "name": "stderr",
     "output_type": "stream",
     "text": [
      "100%|██████████| 10000/10000 [00:00<00:00, 47238.74it/s]\n",
      "100%|██████████| 81/81 [00:00<00:00, 88.74it/s]\n"
     ]
    },
    {
     "name": "stdout",
     "output_type": "stream",
     "text": [
      "number of parameters: 10.66M\n",
      "Loading meta from meta_all_ascii_chars.pkl...\n",
      "evaluating addition from: FILE:data/bal/test_3digit_10000.txt\n",
      "Evaluating Addition using test data file: data/bal/test_3digit_10000.txt\n"
     ]
    },
    {
     "name": "stderr",
     "output_type": "stream",
     "text": [
      "100%|██████████| 10000/10000 [00:00<00:00, 36811.77it/s]\n",
      "100%|██████████| 81/81 [00:00<00:00, 101.87it/s]\n"
     ]
    },
    {
     "name": "stdout",
     "output_type": "stream",
     "text": [
      "number of parameters: 10.66M\n",
      "Loading meta from meta_all_ascii_chars.pkl...\n",
      "evaluating addition from: FILE:data/bal/test_3digit_10000.txt\n",
      "Evaluating Addition using test data file: data/bal/test_3digit_10000.txt\n"
     ]
    },
    {
     "name": "stderr",
     "output_type": "stream",
     "text": [
      "100%|██████████| 10000/10000 [00:00<00:00, 46893.86it/s]\n",
      "100%|██████████| 81/81 [00:00<00:00, 102.02it/s]\n"
     ]
    },
    {
     "name": "stdout",
     "output_type": "stream",
     "text": [
      "number of parameters: 10.66M\n",
      "Loading meta from meta_all_ascii_chars.pkl...\n",
      "evaluating addition from: FILE:data/bal/test_3digit_10000.txt\n",
      "Evaluating Addition using test data file: data/bal/test_3digit_10000.txt\n"
     ]
    },
    {
     "name": "stderr",
     "output_type": "stream",
     "text": [
      "100%|██████████| 10000/10000 [00:00<00:00, 47178.54it/s]\n",
      "100%|██████████| 81/81 [00:00<00:00, 102.17it/s]\n"
     ]
    },
    {
     "name": "stdout",
     "output_type": "stream",
     "text": [
      "number of parameters: 10.66M\n",
      "Loading meta from meta_all_ascii_chars.pkl...\n",
      "evaluating addition from: FILE:data/bal/test_3digit_10000.txt\n",
      "Evaluating Addition using test data file: data/bal/test_3digit_10000.txt\n"
     ]
    },
    {
     "name": "stderr",
     "output_type": "stream",
     "text": [
      "100%|██████████| 10000/10000 [00:00<00:00, 36731.89it/s]\n",
      "100%|██████████| 81/81 [00:00<00:00, 102.26it/s]"
     ]
    },
    {
     "name": "stdout",
     "output_type": "stream",
     "text": [
      "[0, 27.76, 85.09, 95.00999999999999, 98.6, 99.58]\n"
     ]
    },
    {
     "name": "stderr",
     "output_type": "stream",
     "text": [
      "\n"
     ]
    }
   ],
   "source": [
    "from test_utils import *\n",
    "\n",
    "checkpoints_path = './test_out/out-check-mixed-eval-L+W1'\n",
    "nums = [2000, 4000, 6000, 8000, 10000]\n",
    "device = torch.device('cuda' if torch.cuda.is_available() else 'cpu')\n",
    "\n",
    "add_acc_W1 = []\n",
    "\n",
    "for num in nums:\n",
    "\n",
    "    ckpt_path = f'{checkpoints_path}/ckpt_mixed_L+W1_{num}_judge_acc.pt'\n",
    "    tester = model_addition_tester(ckpt_path,\n",
    "                          test_file='data/bal/test_3digit_10000.txt', mydevice=device, data_format='eval_format',\n",
    "                            judge=True, label_exp=False, vebrose=False)\n",
    "    accuracy, accuracy_dictionary, wrong_type_dict = tester.test_addition()\n",
    "    add_acc_W1.append(accuracy)\n",
    "    \n",
    "add_acc_W1 = [0] + add_acc_W1  # 在开始添加一个零点\n",
    "print(add_acc_W1)"
   ]
  },
  {
   "cell_type": "code",
   "execution_count": 2,
   "metadata": {},
   "outputs": [
    {
     "name": "stdout",
     "output_type": "stream",
     "text": [
      "number of parameters: 10.66M\n",
      "Loading meta from meta_all_ascii_chars.pkl...\n",
      "evaluating addition from: FILE:data/bal/test_3digit_10000.txt\n",
      "Evaluating Addition using test data file: data/bal/test_3digit_10000.txt\n"
     ]
    },
    {
     "name": "stderr",
     "output_type": "stream",
     "text": [
      "100%|██████████| 10000/10000 [00:00<00:00, 46553.82it/s]\n",
      "100%|██████████| 81/81 [00:00<00:00, 99.58it/s]\n"
     ]
    },
    {
     "name": "stdout",
     "output_type": "stream",
     "text": [
      "number of parameters: 10.66M\n",
      "Loading meta from meta_all_ascii_chars.pkl...\n",
      "evaluating addition from: FILE:data/bal/test_3digit_10000.txt\n",
      "Evaluating Addition using test data file: data/bal/test_3digit_10000.txt\n"
     ]
    },
    {
     "name": "stderr",
     "output_type": "stream",
     "text": [
      "100%|██████████| 10000/10000 [00:00<00:00, 46194.61it/s]\n",
      "100%|██████████| 81/81 [00:00<00:00, 101.68it/s]\n"
     ]
    },
    {
     "name": "stdout",
     "output_type": "stream",
     "text": [
      "number of parameters: 10.66M\n",
      "Loading meta from meta_all_ascii_chars.pkl...\n",
      "evaluating addition from: FILE:data/bal/test_3digit_10000.txt\n",
      "Evaluating Addition using test data file: data/bal/test_3digit_10000.txt\n"
     ]
    },
    {
     "name": "stderr",
     "output_type": "stream",
     "text": [
      "100%|██████████| 10000/10000 [00:00<00:00, 46657.19it/s]\n",
      "100%|██████████| 81/81 [00:00<00:00, 101.60it/s]\n"
     ]
    },
    {
     "name": "stdout",
     "output_type": "stream",
     "text": [
      "number of parameters: 10.66M\n",
      "Loading meta from meta_all_ascii_chars.pkl...\n",
      "evaluating addition from: FILE:data/bal/test_3digit_10000.txt\n",
      "Evaluating Addition using test data file: data/bal/test_3digit_10000.txt\n"
     ]
    },
    {
     "name": "stderr",
     "output_type": "stream",
     "text": [
      "100%|██████████| 10000/10000 [00:00<00:00, 46285.29it/s]\n",
      "100%|██████████| 81/81 [00:00<00:00, 101.65it/s]\n"
     ]
    },
    {
     "name": "stdout",
     "output_type": "stream",
     "text": [
      "number of parameters: 10.66M\n",
      "Loading meta from meta_all_ascii_chars.pkl...\n",
      "evaluating addition from: FILE:data/bal/test_3digit_10000.txt\n",
      "Evaluating Addition using test data file: data/bal/test_3digit_10000.txt\n"
     ]
    },
    {
     "name": "stderr",
     "output_type": "stream",
     "text": [
      "100%|██████████| 10000/10000 [00:00<00:00, 37053.89it/s]\n",
      "100%|██████████| 81/81 [00:00<00:00, 101.87it/s]"
     ]
    },
    {
     "name": "stdout",
     "output_type": "stream",
     "text": [
      "[0, 27.450000000000003, 86.98, 95.82000000000001, 98.32, 99.79]\n"
     ]
    },
    {
     "name": "stderr",
     "output_type": "stream",
     "text": [
      "\n"
     ]
    }
   ],
   "source": [
    "from test_utils import *\n",
    "\n",
    "checkpoints_path = './test_out/out-check-mixed-eval-L+W2'\n",
    "nums = [2000, 4000, 6000, 8000, 10000]\n",
    "device = torch.device('cuda' if torch.cuda.is_available() else 'cpu')\n",
    "\n",
    "add_acc_W1 = []\n",
    "\n",
    "for num in nums:\n",
    "\n",
    "    ckpt_path = f'{checkpoints_path}/ckpt_mixed_L+W2_{num}_judge_acc.pt'\n",
    "    tester = model_addition_tester(ckpt_path,\n",
    "                          test_file='data/bal/test_3digit_10000.txt', mydevice=device, data_format='eval_format',\n",
    "                            judge=True, label_exp=False, vebrose=False)\n",
    "    accuracy, accuracy_dictionary, wrong_type_dict = tester.test_addition()\n",
    "    add_acc_W1.append(accuracy)\n",
    "    \n",
    "add_acc_W1 = [0] + add_acc_W1  # 在开始添加一个零点\n",
    "print(add_acc_W1)"
   ]
  },
  {
   "cell_type": "markdown",
   "metadata": {},
   "source": [
    "## 下面取出judge-from-add的best judgeacc"
   ]
  },
  {
   "cell_type": "code",
   "execution_count": 5,
   "metadata": {},
   "outputs": [
    {
     "data": {
      "image/png": "[encoded data removed]",
      "text/plain": [
       "<Figure size 1000x600 with 1 Axes>"
      ]
     },
     "metadata": {},
     "output_type": "display_data"
    }
   ],
   "source": [
    "import torch\n",
    "import os\n",
    "import matplotlib.pyplot as plt\n",
    "\n",
    "checkpoint_paths = ['./test_out/out-check-judge-from-add-L+W1', './test_out/out-check-judge-from-add-L+W2']\n",
    "nums = [0, 2000, 4000, 6000, 8000, 10000]  # 在开始添加一个零点\n",
    "\n",
    "device = 'cuda' if torch.cuda.is_available() else 'cpu'\n",
    "\n",
    "# 存储每个检查点的最佳精度\n",
    "best_judge_accuracies = {path: [0] for path in checkpoint_paths}  # 在开始添加一个零点\n",
    "\n",
    "for path in checkpoint_paths:\n",
    "    for num in nums[1:]:  # 从第二个元素开始循环\n",
    "        if path == './test_out/out-check-judge-from-add-L+W1':\n",
    "            checkpoint_name = f'ckpt_judge_from_add_L+W1_{num}_judge_acc.pt'\n",
    "        elif path == './test_out/out-check-judge-from-add-L+W2':\n",
    "            checkpoint_name = f'ckpt_judge_from_add_L+W2_{num}_judge_acc.pt'\n",
    "        ckpt_path = os.path.join(path, checkpoint_name)\n",
    "        checkpoint = torch.load(ckpt_path, map_location=device)\n",
    "        best_judge_accuracies[path].append(checkpoint['best_judgeacc'])  # 将精度转换为百分比\n",
    "\n",
    "# 创建图表\n",
    "plt.figure(figsize=(10, 6))\n",
    "\n",
    "colors = ['#1f77b4', '#d62728']\n",
    "labels = ['L+W1', 'L+W2']\n",
    "linestyles = ['-', '--']  # 设置线的样式\n",
    "\n",
    "for path, color, label, linestyle in zip(checkpoint_paths, colors, labels, linestyles):\n",
    "    plt.plot(nums, best_judge_accuracies[path], marker='o', color=color, label=label, linewidth=3, linestyle=linestyle)\n",
    "\n",
    "# 设置标题和标签\n",
    "plt.xlabel('Number of addition train examples', fontsize=20)\n",
    "plt.ylabel('Best Judgment Accuracy (%)', fontsize=20)\n",
    "\n",
    "# 设置图例\n",
    "plt.legend(fontsize=18, frameon=True, shadow=True, borderpad=1, loc='lower right')\n",
    "\n",
    "# 设置网格线\n",
    "plt.grid(True)\n",
    "\n",
    "# 设置刻度字体大小\n",
    "plt.xticks(fontsize=14)\n",
    "plt.yticks(fontsize=12)\n",
    "\n",
    "# 显示图表\n",
    "plt.show()"
   ]
  },
  {
   "cell_type": "code",
   "execution_count": 8,
   "metadata": {},
   "outputs": [
    {
     "name": "stdout",
     "output_type": "stream",
     "text": [
      "./test_out/out-check-judge-from-add-L+W1\n",
      "[0, 85.37101593625498, 88.2781374501992, 90.25149402390437, 92.61703187250995, 94.55303784860558]\n",
      "./test_out/out-check-judge-from-add-L+W2\n",
      "[0, 80.23693117713427, 83.54644603234298, 84.98182274037859, 87.54544314905353, 90.16547574276044]\n"
     ]
    }
   ],
   "source": [
    "# 打印输出best_judge_accuracies中的各个值\n",
    "for path in checkpoint_paths:\n",
    "    print(path)\n",
    "    print(best_judge_accuracies[path])\n",
    "    "
   ]
  },
  {
   "cell_type": "markdown",
   "metadata": {},
   "source": [
    "## 下面取出learn-from-mistakes的best judgeacc"
   ]
  },
  {
   "cell_type": "code",
   "execution_count": 10,
   "metadata": {},
   "outputs": [
    {
     "data": {
      "image/png": "[encoded data removed]",
      "text/plain": [
       "<Figure size 1000x600 with 1 Axes>"
      ]
     },
     "metadata": {},
     "output_type": "display_data"
    }
   ],
   "source": [
    "import torch\n",
    "import os\n",
    "import matplotlib.pyplot as plt\n",
    "\n",
    "checkpoint_paths = ['./test_out/out-check-mixed-eval-L+W1', './test_out/out-check-mixed-eval-L+W2']\n",
    "nums = [0, 2000, 4000, 6000, 8000, 10000]  # 在开始添加一个零点\n",
    "\n",
    "device = 'cuda' if torch.cuda.is_available() else 'cpu'\n",
    "\n",
    "# 存储每个检查点的最佳精度\n",
    "best_judge_accuracies = {path: [0] for path in checkpoint_paths}  # 在开始添加一个零点\n",
    "\n",
    "for path in checkpoint_paths:\n",
    "    for num in nums[1:]:  # 从第二个元素开始循环\n",
    "        if path == './test_out/out-check-mixed-eval-L+W1':\n",
    "            checkpoint_name = f'ckpt_judge_from_mistakes_L+W1_{num}_judge_acc.pt'\n",
    "        elif path == './test_out/out-check-mixed-eval-L+W2':\n",
    "            checkpoint_name = f'ckpt_judge_from_mistakes_L+W2_{num}_judge_acc.pt'\n",
    "        ckpt_path = os.path.join(path, checkpoint_name)\n",
    "        checkpoint = torch.load(ckpt_path, map_location=device)\n",
    "        best_judge_accuracies[path].append(checkpoint['best_judgeacc'])  # 将精度转换为百分比\n",
    "\n",
    "# 创建图表\n",
    "plt.figure(figsize=(10, 6))\n",
    "\n",
    "colors = ['#1f77b4', '#d62728']\n",
    "labels = ['L+W1', 'L+W2']\n",
    "linestyles = ['-', '--']  # 设置线的样式\n",
    "\n",
    "for path, color, label, linestyle in zip(checkpoint_paths, colors, labels, linestyles):\n",
    "    plt.plot(nums, best_judge_accuracies[path], marker='o', color=color, label=label, linewidth=3, linestyle=linestyle)\n",
    "\n",
    "# 设置标题和标签\n",
    "plt.xlabel('Number of addition train examples', fontsize=20)\n",
    "plt.ylabel('Best Judgment Accuracy (%)', fontsize=20)\n",
    "\n",
    "# 设置图例\n",
    "plt.legend(fontsize=18, frameon=True, shadow=True, borderpad=1, loc='lower right')\n",
    "\n",
    "# 设置网格线\n",
    "plt.grid(True)\n",
    "\n",
    "# 设置刻度字体大小\n",
    "plt.xticks(fontsize=14)\n",
    "plt.yticks(fontsize=12)\n",
    "\n",
    "# 显示图表\n",
    "plt.show()"
   ]
  },
  {
   "cell_type": "code",
   "execution_count": 11,
   "metadata": {},
   "outputs": [
    {
     "name": "stdout",
     "output_type": "stream",
     "text": [
      "./test_out/out-check-mixed-eval-L+W1\n",
      "[0, 84.78206569251905, 89.19070813038591, 93.42450355938554, 95.391532409142, 96.53428250281004]\n",
      "./test_out/out-check-mixed-eval-L+W2\n",
      "[0, 79.70606629143214, 83.15196998123827, 89.02439024390245, 92.02626641651031, 93.27704815509694]\n"
     ]
    }
   ],
   "source": [
    "# 打印输出best_judge_accuracies中的各个值\n",
    "for path in checkpoint_paths:\n",
    "    print(path)\n",
    "    print(best_judge_accuracies[path])\n",
    "    "
   ]
  },
  {
   "cell_type": "markdown",
   "metadata": {},
   "source": [
    "## 接下来测试learn from mistakes的addition"
   ]
  },
  {
   "cell_type": "code",
   "execution_count": 12,
   "metadata": {},
   "outputs": [
    {
     "name": "stdout",
     "output_type": "stream",
     "text": [
      "number of parameters: 10.66M\n",
      "Loading meta from meta_all_ascii_chars.pkl...\n",
      "evaluating addition from: FILE:data/bal/z_3digit_10000.txt\n",
      "Evaluating Addition using test data file: data/bal/z_3digit_10000.txt\n"
     ]
    },
    {
     "name": "stderr",
     "output_type": "stream",
     "text": [
      "100%|██████████| 10000/10000 [00:00<00:00, 33512.42it/s]\n",
      "100%|██████████| 80/80 [00:00<00:00, 101.15it/s]\n"
     ]
    },
    {
     "name": "stdout",
     "output_type": "stream",
     "text": [
      "number of parameters: 10.66M\n",
      "Loading meta from meta_all_ascii_chars.pkl...\n",
      "evaluating addition from: FILE:data/bal/z_3digit_10000.txt\n",
      "Evaluating Addition using test data file: data/bal/z_3digit_10000.txt\n"
     ]
    },
    {
     "name": "stderr",
     "output_type": "stream",
     "text": [
      "100%|██████████| 10000/10000 [00:00<00:00, 47476.20it/s]\n",
      "100%|██████████| 80/80 [00:00<00:00, 101.65it/s]\n"
     ]
    },
    {
     "name": "stdout",
     "output_type": "stream",
     "text": [
      "number of parameters: 10.66M\n",
      "Loading meta from meta_all_ascii_chars.pkl...\n",
      "evaluating addition from: FILE:data/bal/z_3digit_10000.txt\n",
      "Evaluating Addition using test data file: data/bal/z_3digit_10000.txt\n"
     ]
    },
    {
     "name": "stderr",
     "output_type": "stream",
     "text": [
      "100%|██████████| 10000/10000 [00:00<00:00, 47512.13it/s]\n",
      "100%|██████████| 80/80 [00:00<00:00, 101.72it/s]\n"
     ]
    },
    {
     "name": "stdout",
     "output_type": "stream",
     "text": [
      "number of parameters: 10.66M\n",
      "Loading meta from meta_all_ascii_chars.pkl...\n",
      "evaluating addition from: FILE:data/bal/z_3digit_10000.txt\n",
      "Evaluating Addition using test data file: data/bal/z_3digit_10000.txt\n"
     ]
    },
    {
     "name": "stderr",
     "output_type": "stream",
     "text": [
      "100%|██████████| 10000/10000 [00:00<00:00, 33799.41it/s]\n",
      "100%|██████████| 80/80 [00:00<00:00, 101.82it/s]\n"
     ]
    },
    {
     "name": "stdout",
     "output_type": "stream",
     "text": [
      "number of parameters: 10.66M\n",
      "Loading meta from meta_all_ascii_chars.pkl...\n",
      "evaluating addition from: FILE:data/bal/z_3digit_10000.txt\n",
      "Evaluating Addition using test data file: data/bal/z_3digit_10000.txt\n"
     ]
    },
    {
     "name": "stderr",
     "output_type": "stream",
     "text": [
      "100%|██████████| 10000/10000 [00:00<00:00, 47065.72it/s]\n",
      "100%|██████████| 80/80 [00:00<00:00, 101.69it/s]"
     ]
    },
    {
     "name": "stdout",
     "output_type": "stream",
     "text": [
      "[0, 72.55, 81.6, 87.61, 90.31, 91.71000000000001]\n"
     ]
    },
    {
     "name": "stderr",
     "output_type": "stream",
     "text": [
      "\n"
     ]
    }
   ],
   "source": [
    "from test_utils import *\n",
    "\n",
    "checkpoints_path = './test_out/out-check-mixed-eval-L+W1'\n",
    "nums = [2000, 4000, 6000, 8000, 10000]\n",
    "device = torch.device('cuda' if torch.cuda.is_available() else 'cpu')\n",
    "\n",
    "add_acc_W1 = []\n",
    "\n",
    "for num in nums:\n",
    "\n",
    "    ckpt_path = f'{checkpoints_path}/ckpt_judge_from_mistakes_L+W1_{num}_judge_acc.pt'\n",
    "    tester = model_addition_tester(ckpt_path,\n",
    "                          test_file='data/bal/z_3digit_10000.txt', mydevice=device, data_format='eval_format',\n",
    "                            judge=True, label_exp=False, vebrose=False)\n",
    "    accuracy, accuracy_dictionary, wrong_type_dict = tester.test_addition()\n",
    "    add_acc_W1.append(accuracy)\n",
    "    \n",
    "add_acc_W1 = [0] + add_acc_W1  # 在开始添加一个零点\n",
    "print(add_acc_W1)"
   ]
  },
  {
   "cell_type": "code",
   "execution_count": 13,
   "metadata": {},
   "outputs": [
    {
     "name": "stdout",
     "output_type": "stream",
     "text": [
      "number of parameters: 10.66M\n",
      "Loading meta from meta_all_ascii_chars.pkl...\n",
      "evaluating addition from: FILE:data/bal/z_3digit_10000.txt\n",
      "Evaluating Addition using test data file: data/bal/z_3digit_10000.txt\n"
     ]
    },
    {
     "name": "stderr",
     "output_type": "stream",
     "text": [
      "100%|██████████| 10000/10000 [00:00<00:00, 47225.12it/s]\n",
      "100%|██████████| 80/80 [00:00<00:00, 100.81it/s]\n"
     ]
    },
    {
     "name": "stdout",
     "output_type": "stream",
     "text": [
      "number of parameters: 10.66M\n",
      "Loading meta from meta_all_ascii_chars.pkl...\n",
      "evaluating addition from: FILE:data/bal/z_3digit_10000.txt\n",
      "Evaluating Addition using test data file: data/bal/z_3digit_10000.txt\n"
     ]
    },
    {
     "name": "stderr",
     "output_type": "stream",
     "text": [
      "100%|██████████| 10000/10000 [00:00<00:00, 34035.01it/s]\n",
      "100%|██████████| 80/80 [00:00<00:00, 101.61it/s]\n"
     ]
    },
    {
     "name": "stdout",
     "output_type": "stream",
     "text": [
      "number of parameters: 10.66M\n",
      "Loading meta from meta_all_ascii_chars.pkl...\n",
      "evaluating addition from: FILE:data/bal/z_3digit_10000.txt\n",
      "Evaluating Addition using test data file: data/bal/z_3digit_10000.txt\n"
     ]
    },
    {
     "name": "stderr",
     "output_type": "stream",
     "text": [
      "100%|██████████| 10000/10000 [00:00<00:00, 47074.54it/s]\n",
      "100%|██████████| 80/80 [00:00<00:00, 101.76it/s]\n"
     ]
    },
    {
     "name": "stdout",
     "output_type": "stream",
     "text": [
      "number of parameters: 10.66M\n",
      "Loading meta from meta_all_ascii_chars.pkl...\n",
      "evaluating addition from: FILE:data/bal/z_3digit_10000.txt\n",
      "Evaluating Addition using test data file: data/bal/z_3digit_10000.txt\n"
     ]
    },
    {
     "name": "stderr",
     "output_type": "stream",
     "text": [
      "100%|██████████| 10000/10000 [00:00<00:00, 47055.58it/s]\n",
      "100%|██████████| 80/80 [00:00<00:00, 101.68it/s]\n"
     ]
    },
    {
     "name": "stdout",
     "output_type": "stream",
     "text": [
      "number of parameters: 10.66M\n",
      "Loading meta from meta_all_ascii_chars.pkl...\n",
      "evaluating addition from: FILE:data/bal/z_3digit_10000.txt\n",
      "Evaluating Addition using test data file: data/bal/z_3digit_10000.txt\n"
     ]
    },
    {
     "name": "stderr",
     "output_type": "stream",
     "text": [
      "100%|██████████| 10000/10000 [00:00<00:00, 34421.35it/s]\n",
      "100%|██████████| 80/80 [00:00<00:00, 101.39it/s]"
     ]
    },
    {
     "name": "stdout",
     "output_type": "stream",
     "text": [
      "[0, 61.99, 81.27, 87.89, 90.01, 92.17]\n"
     ]
    },
    {
     "name": "stderr",
     "output_type": "stream",
     "text": [
      "\n"
     ]
    }
   ],
   "source": [
    "from test_utils import *\n",
    "\n",
    "checkpoints_path = './test_out/out-check-mixed-eval-L+W2'\n",
    "nums = [2000, 4000, 6000, 8000, 10000]\n",
    "device = torch.device('cuda' if torch.cuda.is_available() else 'cpu')\n",
    "\n",
    "add_acc_W1 = []\n",
    "\n",
    "for num in nums:\n",
    "\n",
    "    ckpt_path = f'{checkpoints_path}/ckpt_judge_from_mistakes_L+W2_{num}_judge_acc.pt'\n",
    "    tester = model_addition_tester(ckpt_path,\n",
    "                          test_file='data/bal/z_3digit_10000.txt', mydevice=device, data_format='eval_format',\n",
    "                            judge=True, label_exp=False, vebrose=False)\n",
    "    accuracy, accuracy_dictionary, wrong_type_dict = tester.test_addition()\n",
    "    add_acc_W1.append(accuracy)\n",
    "    \n",
    "add_acc_W1 = [0] + add_acc_W1  # 在开始添加一个零点\n",
    "print(add_acc_W1)"
   ]
  }
 ],
 "metadata": {
  "kernelspec": {
   "display_name": "base",
   "language": "python",
   "name": "python3"
  },
  "language_info": {
   "codemirror_mode": {
    "name": "ipython",
    "version": 3
   },
   "file_extension": ".py",
   "mimetype": "text/x-python",
   "name": "python",
   "nbconvert_exporter": "python",
   "pygments_lexer": "ipython3",
   "version": "3.8.10"
  }
 },
 "nbformat": 4,
 "nbformat_minor": 2
}
