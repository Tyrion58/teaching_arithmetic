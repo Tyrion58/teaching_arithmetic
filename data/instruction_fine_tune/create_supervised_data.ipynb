{
 "cells": [
  {
   "cell_type": "markdown",
   "metadata": {},
   "source": [
    "创建instruction fine-tune的判断任务训练数据"
   ]
  },
  {
   "cell_type": "code",
   "execution_count": 1,
   "metadata": {},
   "outputs": [],
   "source": [
    "import re\n",
    "\n",
    "\n",
    "def create_instrct(input_path):\n",
    "    instruct = []\n",
    "    with open(input_path, 'r') as f:\n",
    "        data_lists = f.read().splitlines()\n",
    "    for line in data_lists:\n",
    "        # 匹配如j(a+b=c)的子串，提取出a,b,c的值\n",
    "        match = re.search(r\"j\\((?P<a>\\d+)\\+(?P<b>\\d+)=(?P<c>\\d+)\\)\", line)\n",
    "        if match:\n",
    "            a = int(match.group('a'))\n",
    "            b = int(match.group('b'))\n",
    "            c = int(match.group('c'))\n",
    "            label = line.strip()[-1]\n",
    "            instruct.append(f'I{a}+{b}={c}A{label}\\n')\n",
    "            \n",
    "    return instruct\n",
    "            "
   ]
  },
  {
   "cell_type": "code",
   "execution_count": 2,
   "metadata": {},
   "outputs": [],
   "source": [
    "input_path = '../bal/answer_1st.txt'\n",
    "output = create_instrct(input_path)\n",
    "# 保存\n",
    "with open('instruct_answer_1st.txt', 'w') as f:\n",
    "    f.writelines(output)"
   ]
  },
  {
   "cell_type": "code",
   "execution_count": 3,
   "metadata": {},
   "outputs": [
    {
     "name": "stdout",
     "output_type": "stream",
     "text": [
      "17\n"
     ]
    }
   ],
   "source": [
    "# 统计output中长度最长的元素\n",
    "max_len = 0\n",
    "for line in output:\n",
    "    if len(line) > max_len:\n",
    "        max_len = len(line)\n",
    "        \n",
    "print(max_len)"
   ]
  }
 ],
 "metadata": {
  "kernelspec": {
   "display_name": "base",
   "language": "python",
   "name": "python3"
  },
  "language_info": {
   "codemirror_mode": {
    "name": "ipython",
    "version": 3
   },
   "file_extension": ".py",
   "mimetype": "text/x-python",
   "name": "python",
   "nbconvert_exporter": "python",
   "pygments_lexer": "ipython3",
   "version": "3.8.10"
  }
 },
 "nbformat": 4,
 "nbformat_minor": 2
}
