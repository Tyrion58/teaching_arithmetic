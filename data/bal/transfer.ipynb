{
 "cells": [
  {
   "cell_type": "markdown",
   "metadata": {},
   "source": [
    "This code is used to transfer data into different styles"
   ]
  },
  {
   "cell_type": "code",
   "execution_count": 7,
   "metadata": {},
   "outputs": [],
   "source": [
    "import re\n",
    "import math\n",
    "import random\n",
    "\n",
    "def modify_result(expression, addend, mode, verify:bool = False):\n",
    "        # 使用正则表达式提取表达式中的数字\n",
    "        match = re.match(r'(\\d+)\\+(\\d+)=(\\d+)', expression)\n",
    "        if match:\n",
    "            # 提取数字并计算新的结果\n",
    "            num1 = int(match.group(1))\n",
    "            num2 = int(match.group(2))\n",
    "            result = int(match.group(3))\n",
    "            num_digit = len(match.group(3).strip())\n",
    "            if verify:\n",
    "                flag = 1\n",
    "            else:\n",
    "                flag = random.uniform(0,1)\n",
    "            if mode == 'extra_num':\n",
    "                if flag>0.5:\n",
    "                    flag2 = random.uniform(0,1)\n",
    "                    extra = random.randint(1, 9)\n",
    "                    if flag2>0.5:\n",
    "                        new_expression = f\"j({num1}+{num2}={extra}{result})~F\\n\"\n",
    "                    else:\n",
    "                        new_expression = f\"j({num1}+{num2}={result}{extra})~F\\n\"\n",
    "                else:\n",
    "                    new_expression = f\"j({num1}+{num2}={result})~T\"\n",
    "            elif mode == 'noise_add':\n",
    "                if flag>0.5:\n",
    "                    # 决定添加错误的位置\n",
    "                    wrong_loc = num_digit-1\n",
    "                    new_result = result + addend * (10**wrong_loc)\n",
    "                    # 构建新的表达式\n",
    "                    new_expression = f\"j({num1}+{num2}={new_result})~F\\n\"\n",
    "                else:\n",
    "                    new_expression = f\"j({num1}+{num2}={result})~T\\n\"\n",
    "            else:\n",
    "                raise ValueError('Don\\'t support this noise mode')\n",
    "                        \n",
    "            return new_expression\n",
    "        \n",
    "        else:\n",
    "            raise ValueError(\"Invalid expression format\")\n",
    "            \n",
    "\n",
    "def trans2judge(input_path, output_path, only_judge: bool = True):\n",
    "    \n",
    "    with open(input_path, 'r') as f:\n",
    "        lines = f.readlines()\n",
    "        \n",
    "    with open(output_path, 'w') as f2:\n",
    "        for line in lines:\n",
    "            if not only_judge:\n",
    "                f2.write(line)\n",
    "            line = line.strip()\n",
    "            new_line = f'j({line})~T\\n'\n",
    "            f2.write(new_line)\n",
    "            if random.uniform(0,1) > 0.5:\n",
    "                new_line_1 = modify_result(line, random.randint(1, 9), mode='extra_num', verify=True)\n",
    "                new_line_2 = modify_result(line, random.randint(1, 9), mode='noise_add', verify=True)\n",
    "                f2.write(new_line_1)\n",
    "                f2.write(new_line_2)"
   ]
  },
  {
   "cell_type": "code",
   "execution_count": 9,
   "metadata": {},
   "outputs": [],
   "source": [
    "input_path = './train_3digit_10000.txt'\n",
    "output_path = '../addition_judge/train_3digit_judge_10000.txt'\n",
    "\n",
    "trans2judge(input_path, output_path, only_judge=True)"
   ]
  },
  {
   "cell_type": "code",
   "execution_count": 10,
   "metadata": {},
   "outputs": [],
   "source": [
    "input_path = './test_3digit_10000.txt'\n",
    "output_path = '../addition_judge/test_3digit_judge_10000.txt'\n",
    "\n",
    "trans2judge(input_path, output_path, only_judge=True)"
   ]
  }
 ],
 "metadata": {
  "kernelspec": {
   "display_name": "base",
   "language": "python",
   "name": "python3"
  },
  "language_info": {
   "codemirror_mode": {
    "name": "ipython",
    "version": 3
   },
   "file_extension": ".py",
   "mimetype": "text/x-python",
   "name": "python",
   "nbconvert_exporter": "python",
   "pygments_lexer": "ipython3",
   "version": "3.8.10"
  }
 },
 "nbformat": 4,
 "nbformat_minor": 2
}
