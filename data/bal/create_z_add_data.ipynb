{
 "cells": [
  {
   "cell_type": "code",
   "execution_count": 1,
   "metadata": {},
   "outputs": [],
   "source": [
    "import math\n",
    "import random\n",
    "\n",
    "def numCarryOps(a, b):\n",
    "    a,b=int(a),int(b)\n",
    "    def digitSum(n):\n",
    "        return sum(map(int,str(n)))\n",
    "    # assert(a >= 0); assert(b >= 0);\n",
    "    return int((digitSum(a) + digitSum(b) - digitSum(a+b)) / 9)\n",
    "\n",
    "# read nonoverlap.txt and test.txt, choose n samples that are not in test.txt but in nonoverlap.txt\n",
    "def create_z(test_file_path, nonoverlap_file_path, total_num_examples, num_digits):\n",
    "    with open(test_file_path, 'r') as f:\n",
    "        test = f.readlines()\n",
    "    with open(nonoverlap_file_path, 'r') as f:\n",
    "        nonoverlap = f.readlines()\n",
    "    test = set([x.strip() for x in test])\n",
    "    nonoverlap = set([x.strip() for x in nonoverlap])\n",
    "    new_nonlap = nonoverlap - test\n",
    "    new_nonlap = list(new_nonlap)\n",
    "    # create balanced z_data from new_nonlap\n",
    "    \n",
    "    num_digit_2 = int(900*total_num_examples/10000)\n",
    "    num_digit_list = [100, num_digit_2, total_num_examples - 100 - num_digit_2]\n",
    "    num_list = [2000, 4000, 6000, 8000, 10000]\n",
    "    print(num_digit_list)\n",
    "\n",
    "    # create a list of number of carries - we target each number of carries to have the same number of examples\n",
    "    target_num_carry_examples = math.ceil(total_num_examples / (num_digits+1))\n",
    "    num_carry_list = [0 for i in range(num_digits+1)]\n",
    "\n",
    "    lines = []\n",
    "    num_example = 0\n",
    "\n",
    "    # generate all 1 digit examples\n",
    "    for a in range(10):\n",
    "        for b in range(10):\n",
    "            c = a + b\n",
    "            # f.write(f'{a}+{b}={c}\\n')\n",
    "            lines.append(f'{a}+{b}={c}\\n')\n",
    "            num_example += 1\n",
    "            num_carry = numCarryOps(a, b)\n",
    "            num_carry_list[num_carry] += 1\n",
    "\n",
    "    for num_digit in range(2, num_digits+1):\n",
    "        num_digit_example = 0\n",
    "        print(num_digit,  num_example, num_carry_list)\n",
    "        while num_digit_example < num_digit_list[num_digit-1] and num_example < total_num_examples:\n",
    "            # generate a random number between 0 and 10^(i+1) - 1\n",
    "            a = random.randint(0, 10**(num_digit) - 1)\n",
    "            b = random.randint(0, 10**(num_digit) - 1)\n",
    "            c = a + b\n",
    "\n",
    "            # count number of carries in c\n",
    "            num_carry = numCarryOps(a, b)\n",
    "            if num_carry_list[num_carry] < target_num_carry_examples:\n",
    "                # write the example to file\n",
    "                #f.write(f'{a}+{b}={c}\\n')\n",
    "                lines.append(f'{a}+{b}={c}\\n')\n",
    "                # increment num_carry_list[num_carry]\n",
    "                num_carry_list[num_carry] += 1\n",
    "                num_digit_example += 1\n",
    "                num_example += 1\n",
    "                if num_example in num_list:\n",
    "                    # write to file\n",
    "                    with open(f'z_{num_digits}digit_{num_example}.txt', 'w') as f:\n",
    "                        f.writelines(lines)\n",
    "            else:\n",
    "                continue\n",
    "        \n",
    "    print(num_carry_list)"
   ]
  },
  {
   "cell_type": "code",
   "execution_count": 2,
   "metadata": {},
   "outputs": [
    {
     "name": "stdout",
     "output_type": "stream",
     "text": [
      "[100, 900, 9000]\n",
      "2 100 [55, 45, 0, 0]\n",
      "3 1000 [315, 454, 231, 0]\n",
      "[2500, 2500, 2500, 2500]\n"
     ]
    }
   ],
   "source": [
    "test_file_path = 'test_3digit_10000.txt' \n",
    "nonoverlap_file_path = 'train_3digit_10000_nonoverlap.txt'\n",
    "create_z(test_file_path, nonoverlap_file_path, 10000, 3)"
   ]
  }
 ],
 "metadata": {
  "kernelspec": {
   "display_name": "base",
   "language": "python",
   "name": "python3"
  },
  "language_info": {
   "codemirror_mode": {
    "name": "ipython",
    "version": 3
   },
   "file_extension": ".py",
   "mimetype": "text/x-python",
   "name": "python",
   "nbconvert_exporter": "python",
   "pygments_lexer": "ipython3",
   "version": "3.8.10"
  }
 },
 "nbformat": 4,
 "nbformat_minor": 2
}
