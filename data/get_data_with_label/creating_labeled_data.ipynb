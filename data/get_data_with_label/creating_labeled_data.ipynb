{
 "cells": [
  {
   "cell_type": "code",
   "execution_count": 3,
   "metadata": {},
   "outputs": [],
   "source": [
    "import math\n",
    "import random\n",
    "import os"
   ]
  },
  {
   "cell_type": "code",
   "execution_count": 4,
   "metadata": {},
   "outputs": [],
   "source": [
    "def numCarryOps(a, b):\n",
    "    a,b=int(a),int(b)\n",
    "    def digitSum(n):\n",
    "        return sum(map(int,str(n)))\n",
    "    # assert(a >= 0); assert(b >= 0);\n",
    "    return int((digitSum(a) + digitSum(b) - digitSum(a+b)) / 9)"
   ]
  },
  {
   "cell_type": "code",
   "execution_count": 5,
   "metadata": {},
   "outputs": [],
   "source": [
    "def create_balanced_data_with_label(filename, total_num_examples=10000, num_digits = 3):\n",
    "    num_digit_2 = int(900*total_num_examples/10000)\n",
    "    num_digit_list = [100, num_digit_2, total_num_examples - 100 - num_digit_2]\n",
    "    print(num_digit_list)\n",
    "\n",
    "    # create a list of number of carries - we target each number of carries to have the same number of examples\n",
    "    target_num_carry_examples = math.ceil(total_num_examples / (num_digits+1))\n",
    "    num_carry_list = [0 for i in range(num_digits+1)]\n",
    "\n",
    "    with open(filename, 'w') as f:\n",
    "        num_example = 0\n",
    "\n",
    "        # generate all 1 digit examples\n",
    "        # 1位加法全为正确\n",
    "        for a in range(10):\n",
    "            for b in range(10):\n",
    "                c = a + b\n",
    "                f.write(f'{a}+{b}={c} T\\n')\n",
    "                num_example += 1\n",
    "                num_carry = numCarryOps(a, b)\n",
    "                num_carry_list[num_carry] += 1\n",
    "\n",
    "        for num_digit in range(2, num_digits+1):\n",
    "            num_digit_example = 0\n",
    "            print(num_digit,  num_example, num_carry_list)\n",
    "            while num_digit_example < num_digit_list[num_digit-1] and num_example < total_num_examples:\n",
    "                # generate a random number between 0 and 10^(i+1) - 1\n",
    "                a = random.randint(0, 10**(num_digit) - 1)\n",
    "                b = random.randint(0, 10**(num_digit) - 1)\n",
    "                c = a + b\n",
    "\n",
    "                # count number of carries in c\n",
    "                num_carry = numCarryOps(a, b)\n",
    "                if num_carry_list[num_carry] < target_num_carry_examples:\n",
    "                    if random.uniform(0,1)>0.8:\n",
    "                        f.write(f'{a}+{b}={random.randint(0, 999)} F\\n')\n",
    "                    else: \n",
    "                        # write the example to file\n",
    "                        f.write(f'{a}+{b}={c} T\\n')\n",
    "                    # increment num_carry_list[num_carry]\n",
    "                    num_carry_list[num_carry] += 1\n",
    "                    num_digit_example += 1\n",
    "                    num_example += 1\n",
    "                else:\n",
    "                    continue\n",
    "        \n",
    "    print(num_carry_list)"
   ]
  },
  {
   "cell_type": "code",
   "execution_count": 6,
   "metadata": {},
   "outputs": [],
   "source": [
    "def create_balanced_data_with_labelV2(filename, total_num_examples=10000, num_digits = 3):\n",
    "    num_digit_2 = int(900*total_num_examples/10000)\n",
    "    num_digit_list = [100, num_digit_2, total_num_examples - 100 - num_digit_2]\n",
    "    print(num_digit_list)\n",
    "\n",
    "    # create a list of number of carries - we target each number of carries to have the same number of examples\n",
    "    target_num_carry_examples = math.ceil(total_num_examples / (num_digits+1))\n",
    "    num_carry_list = [0 for i in range(num_digits+1)]\n",
    "\n",
    "    with open(filename, 'w') as f:\n",
    "        num_example = 0\n",
    "\n",
    "        # generate all 1 digit examples\n",
    "        # 1位加法全为正确\n",
    "        for a in range(10):\n",
    "            for b in range(10):\n",
    "                c = a + b\n",
    "                f.write(f'T {a}+{b}={c}\\n')\n",
    "                num_example += 1\n",
    "                num_carry = numCarryOps(a, b)\n",
    "                num_carry_list[num_carry] += 1\n",
    "\n",
    "        for num_digit in range(2, num_digits+1):\n",
    "            num_digit_example = 0\n",
    "            print(num_digit,  num_example, num_carry_list)\n",
    "            while num_digit_example < num_digit_list[num_digit-1] and num_example < total_num_examples:\n",
    "                # generate a random number between 0 and 10^(i+1) - 1\n",
    "                a = random.randint(0, 10**(num_digit) - 1)\n",
    "                b = random.randint(0, 10**(num_digit) - 1)\n",
    "                c = a + b\n",
    "\n",
    "                # count number of carries in c\n",
    "                num_carry = numCarryOps(a, b)\n",
    "                if num_carry_list[num_carry] < target_num_carry_examples:\n",
    "                    if random.uniform(0,1)>0.8:\n",
    "                        f.write(f'F {a}+{b}={random.randint(0, 999)}\\n')\n",
    "                    else: \n",
    "                        # write the example to file\n",
    "                        f.write(f'T {a}+{b}={c}\\n')\n",
    "                    # increment num_carry_list[num_carry]\n",
    "                    num_carry_list[num_carry] += 1\n",
    "                    num_digit_example += 1\n",
    "                    num_example += 1\n",
    "                else:\n",
    "                    continue\n",
    "        \n",
    "    print(num_carry_list)"
   ]
  },
  {
   "cell_type": "code",
   "execution_count": 7,
   "metadata": {},
   "outputs": [
    {
     "data": {
      "text/plain": [
       "808"
      ]
     },
     "execution_count": 7,
     "metadata": {},
     "output_type": "execute_result"
    }
   ],
   "source": [
    "import random\n",
    "\n",
    "random.uniform(0,1)\n",
    "random.randint(0, 999)"
   ]
  },
  {
   "cell_type": "code",
   "execution_count": 8,
   "metadata": {},
   "outputs": [
    {
     "name": "stdout",
     "output_type": "stream",
     "text": [
      "File train_3digit_labeled10000.txt already exists\n"
     ]
    }
   ],
   "source": [
    "total_num_examples = 10000\n",
    "num_digits = 3\n",
    "input_file_path = f'train_{num_digits}digit_labeled{total_num_examples}.txt'\n",
    "if not os.path.exists(input_file_path):\n",
    "    create_balanced_data_with_label(input_file_path, total_num_examples=total_num_examples, num_digits=3)\n",
    "else:\n",
    "    print(f'File {input_file_path} already exists')"
   ]
  },
  {
   "cell_type": "code",
   "execution_count": 10,
   "metadata": {},
   "outputs": [
    {
     "name": "stdout",
     "output_type": "stream",
     "text": [
      "[100, 900, 9000]\n",
      "2 100 [55, 45, 0, 0]\n",
      "3 1000 [345, 443, 212, 0]\n",
      "[2500, 2500, 2500, 2500]\n"
     ]
    }
   ],
   "source": [
    "total_num_examples = 10000\n",
    "num_digits = 3\n",
    "input_file_path = f'train_{num_digits}digit_labeledV2{total_num_examples}.txt'\n",
    "if not os.path.exists(input_file_path):\n",
    "    create_balanced_data_with_labelV2(input_file_path, total_num_examples=total_num_examples, num_digits=3)\n",
    "else:\n",
    "    print(f'File {input_file_path} already exists')"
   ]
  },
  {
   "cell_type": "code",
   "execution_count": 15,
   "metadata": {},
   "outputs": [
    {
     "name": "stdout",
     "output_type": "stream",
     "text": [
      "9927\n"
     ]
    }
   ],
   "source": [
    "total_num_examples = 10000\n",
    "num_digits = 3\n",
    "input_file_path = f'train_{num_digits}digit_labeled{total_num_examples}.txt'\n",
    "output_file_path = f'train_{num_digits}digit_labeled{total_num_examples}_nonoverlap.txt'\n",
    "\n",
    "lines_to_remove = set()\n",
    "with open(input_file_path, 'r') as f:\n",
    "    for line in f.readlines():\n",
    "        lines_to_remove.add(line)\n",
    "\n",
    "print(len(lines_to_remove))\n",
    "\n",
    "with open(output_file_path, 'w') as f:\n",
    "    for x in range(1000):\n",
    "        for y in range(1000):\n",
    "            line_to_add = f'{x}+{y}={x+y}\\n'\n",
    "            if line_to_add in lines_to_remove:\n",
    "                lines_to_remove.remove(line_to_add)\n",
    "            else:\n",
    "                f.write(line_to_add)"
   ]
  },
  {
   "cell_type": "markdown",
   "metadata": {},
   "source": [
    "创建V2版本训练集"
   ]
  },
  {
   "cell_type": "code",
   "execution_count": 11,
   "metadata": {},
   "outputs": [
    {
     "name": "stdout",
     "output_type": "stream",
     "text": [
      "9928\n"
     ]
    }
   ],
   "source": [
    "total_num_examples = 10000\n",
    "num_digits = 3\n",
    "input_file_path = f'train_{num_digits}digit_labeledV2{total_num_examples}.txt'\n",
    "output_file_path = f'train_{num_digits}digit_labeledV2{total_num_examples}_nonoverlap.txt'\n",
    "\n",
    "lines_to_remove = set()\n",
    "with open(input_file_path, 'r') as f:\n",
    "    for line in f.readlines():\n",
    "        lines_to_remove.add(line)\n",
    "\n",
    "print(len(lines_to_remove))\n",
    "\n",
    "with open(output_file_path, 'w') as f:\n",
    "    for x in range(1000):\n",
    "        for y in range(1000):\n",
    "            line_to_add = f'{x}+{y}={x+y}\\n'\n",
    "            if line_to_add in lines_to_remove:\n",
    "                lines_to_remove.remove(line_to_add)\n",
    "            else:\n",
    "                f.write(line_to_add)"
   ]
  },
  {
   "cell_type": "markdown",
   "metadata": {},
   "source": [
    "创建测试集，测试集与训练集不重复且无答案。在evaluate model的时候作为model的condition"
   ]
  },
  {
   "cell_type": "code",
   "execution_count": 17,
   "metadata": {},
   "outputs": [],
   "source": [
    "num_test_samples = 10000\n",
    "input_file_path = f'train_{num_digits}digit_labeled{total_num_examples}_nonoverlap.txt'\n",
    "\n",
    "with open(input_file_path, 'r') as f:\n",
    "    lines = f.readlines()\n",
    "    random.shuffle(lines)\n",
    "    with open(f'test_{num_digits}digit_{num_test_samples}.txt', 'w') as f2:\n",
    "        for line in lines[:num_test_samples]:\n",
    "            prompt = line.split('=')[0]+'=\\n'\n",
    "            f2.write(prompt)"
   ]
  },
  {
   "cell_type": "code",
   "execution_count": 13,
   "metadata": {},
   "outputs": [],
   "source": [
    "num_test_samples = 10000\n",
    "input_file_path = f'train_{num_digits}digit_labeledV2{total_num_examples}_nonoverlap.txt'\n",
    "\n",
    "with open(input_file_path, 'r') as f:\n",
    "    lines = f.readlines()\n",
    "    random.shuffle(lines)\n",
    "    with open(f'test_{num_digits}digit_V2{num_test_samples}.txt', 'w') as f2:\n",
    "        for line in lines[:num_test_samples]:\n",
    "            prompt = 'T ' + line.split('=')[0]+'=\\n'\n",
    "            f2.write(prompt)"
   ]
  },
  {
   "cell_type": "markdown",
   "metadata": {},
   "source": [
    "创建V3版本数据集"
   ]
  },
  {
   "cell_type": "code",
   "execution_count": 12,
   "metadata": {},
   "outputs": [],
   "source": [
    "def create_balanced_data_with_labelV3(filename, total_num_examples=10000, num_digits = 3):\n",
    "    num_digit_2 = int(900*total_num_examples/10000)\n",
    "    num_digit_list = [100, num_digit_2, total_num_examples - 100 - num_digit_2]\n",
    "    print(num_digit_list)\n",
    "\n",
    "    # create a list of number of carries - we target each number of carries to have the same number of examples\n",
    "    target_num_carry_examples = math.ceil(total_num_examples / (num_digits+1))\n",
    "    num_carry_list = [0 for i in range(num_digits+1)]\n",
    "\n",
    "    with open(filename, 'w') as f:\n",
    "        num_example = 0\n",
    "\n",
    "        # generate all 1 digit examples\n",
    "        # 1位加法全为正确\n",
    "        for a in range(10):\n",
    "            for b in range(10):\n",
    "                c = a + b\n",
    "                f.write(f'T {a}+{b}={c}\\n')\n",
    "                num_example += 1\n",
    "                num_carry = numCarryOps(a, b)\n",
    "                num_carry_list[num_carry] += 1\n",
    "\n",
    "        for num_digit in range(2, num_digits+1):\n",
    "            num_digit_example = 0\n",
    "            print(num_digit,  num_example, num_carry_list)\n",
    "            while num_digit_example < num_digit_list[num_digit-1] and num_example < total_num_examples:\n",
    "                # generate a random number between 0 and 10^(i+1) - 1\n",
    "                a = random.randint(0, 10**(num_digit) - 1)\n",
    "                b = random.randint(0, 10**(num_digit) - 1)\n",
    "                c = a + b\n",
    "\n",
    "                # count number of carries in c\n",
    "                num_carry = numCarryOps(a, b)\n",
    "                if num_carry_list[num_carry] < target_num_carry_examples:\n",
    "                    if random.uniform(0,1)>0.8 and random.uniform(0,1)<0.9:\n",
    "                        extra = random.randint(1, 9)\n",
    "                        f.write(f'{a}+{b}={c}{extra}\\n')\n",
    "                    elif random.uniform(0,1)>0.9:\n",
    "                        extra = random.randint(1, 9)\n",
    "                        f.write(f'{a}+{b}={extra}{c}\\n')\n",
    "                    else: \n",
    "                        # write the example to file\n",
    "                        f.write(f'T {a}+{b}={c}\\n')\n",
    "                    # increment num_carry_list[num_carry]\n",
    "                    num_carry_list[num_carry] += 1\n",
    "                    num_digit_example += 1\n",
    "                    num_example += 1\n",
    "                else:\n",
    "                    continue\n",
    "        \n",
    "    print(num_carry_list)"
   ]
  },
  {
   "cell_type": "code",
   "execution_count": 13,
   "metadata": {},
   "outputs": [
    {
     "name": "stdout",
     "output_type": "stream",
     "text": [
      "[100, 900, 9000]\n",
      "2 100 [55, 45, 0, 0]\n",
      "3 1000 [334, 455, 211, 0]\n",
      "[2500, 2500, 2500, 2500]\n"
     ]
    }
   ],
   "source": [
    "total_num_examples = 10000\n",
    "num_digits = 3\n",
    "input_file_path = f'train_{num_digits}digit_labeledV3{total_num_examples}.txt'\n",
    "if not os.path.exists(input_file_path):\n",
    "    create_balanced_data_with_labelV3(input_file_path, total_num_examples=total_num_examples, num_digits=3)\n",
    "else:\n",
    "    print(f'File {input_file_path} already exists')"
   ]
  },
  {
   "cell_type": "code",
   "execution_count": 14,
   "metadata": {},
   "outputs": [
    {
     "name": "stdout",
     "output_type": "stream",
     "text": [
      "9948\n"
     ]
    }
   ],
   "source": [
    "total_num_examples = 10000\n",
    "num_digits = 3\n",
    "input_file_path = f'train_{num_digits}digit_labeledV3{total_num_examples}.txt'\n",
    "output_file_path = f'train_{num_digits}digit_labeledV3{total_num_examples}_nonoverlap.txt'\n",
    "\n",
    "lines_to_remove = set()\n",
    "with open(input_file_path, 'r') as f:\n",
    "    for line in f.readlines():\n",
    "        lines_to_remove.add(line)\n",
    "\n",
    "print(len(lines_to_remove))\n",
    "\n",
    "with open(output_file_path, 'w') as f:\n",
    "    for x in range(1000):\n",
    "        for y in range(1000):\n",
    "            line_to_add = f'{x}+{y}={x+y}\\n'\n",
    "            if line_to_add in lines_to_remove:\n",
    "                lines_to_remove.remove(line_to_add)\n",
    "            else:\n",
    "                f.write(line_to_add)"
   ]
  },
  {
   "cell_type": "code",
   "execution_count": 17,
   "metadata": {},
   "outputs": [],
   "source": [
    "num_test_samples = 10000\n",
    "input_file_path = f'train_{num_digits}digit_labeledV3{total_num_examples}_nonoverlap.txt'\n",
    "\n",
    "with open(input_file_path, 'r') as f:\n",
    "    lines = f.readlines()\n",
    "    random.shuffle(lines)\n",
    "    with open(f'test_{num_digits}digit_V3{num_test_samples}.txt', 'w') as f2:\n",
    "        for line in lines[:num_test_samples]:\n",
    "            prompt = 'T ' + line.split('=')[0]+'=\\n'\n",
    "            f2.write(prompt)"
   ]
  },
  {
   "cell_type": "markdown",
   "metadata": {},
   "source": [
    "创建V4版本数据集"
   ]
  },
  {
   "cell_type": "code",
   "execution_count": 8,
   "metadata": {},
   "outputs": [],
   "source": [
    "def create_balanced_data_with_labelV4(filename, total_num_examples=10000, num_digits = 3):\n",
    "    num_digit_2 = int(900*total_num_examples/10000)\n",
    "    num_digit_list = [100, num_digit_2, total_num_examples - 100 - num_digit_2]\n",
    "    print(num_digit_list)\n",
    "\n",
    "    # create a list of number of carries - we target each number of carries to have the same number of examples\n",
    "    target_num_carry_examples = math.ceil(total_num_examples / (num_digits+1))\n",
    "    num_carry_list = [0 for i in range(num_digits+1)]\n",
    "\n",
    "    with open(filename, 'w') as f:\n",
    "        num_example = 0\n",
    "\n",
    "        # generate all 1 digit examples\n",
    "        # 1位加法全为正确\n",
    "        for a in range(10):\n",
    "            for b in range(10):\n",
    "                c = a + b\n",
    "                f.write(f'TTTTT {a}+{b}={c}\\n')\n",
    "                num_example += 1\n",
    "                num_carry = numCarryOps(a, b)\n",
    "                num_carry_list[num_carry] += 1\n",
    "\n",
    "        for num_digit in range(2, num_digits+1):\n",
    "            num_digit_example = 0\n",
    "            print(num_digit,  num_example, num_carry_list)\n",
    "            while num_digit_example < num_digit_list[num_digit-1] and num_example < total_num_examples:\n",
    "                # generate a random number between 0 and 10^(i+1) - 1\n",
    "                a = random.randint(0, 10**(num_digit) - 1)\n",
    "                b = random.randint(0, 10**(num_digit) - 1)\n",
    "                c = a + b\n",
    "\n",
    "                # count number of carries in c\n",
    "                num_carry = numCarryOps(a, b)\n",
    "                if num_carry_list[num_carry] < target_num_carry_examples:\n",
    "                    if random.uniform(0,1)>0.8 and random.uniform(0,1)<0.9:\n",
    "                        extra = random.randint(1, 9)\n",
    "                        f.write(f'FFFFF {a}+{b}={c}{extra}\\n')\n",
    "                    elif random.uniform(0,1)>0.9:\n",
    "                        extra = random.randint(1, 9)\n",
    "                        f.write(f'FFFFF {a}+{b}={extra}{c}\\n')\n",
    "                    else: \n",
    "                        # write the example to file\n",
    "                        f.write(f'TTTTT {a}+{b}={c}\\n')\n",
    "                    # increment num_carry_list[num_carry]\n",
    "                    num_carry_list[num_carry] += 1\n",
    "                    num_digit_example += 1\n",
    "                    num_example += 1\n",
    "                else:\n",
    "                    continue\n",
    "        \n",
    "    print(num_carry_list)"
   ]
  },
  {
   "cell_type": "code",
   "execution_count": 11,
   "metadata": {},
   "outputs": [],
   "source": [
    "num_test_samples = 10000\n",
    "input_file_path = f'train_{num_digits}digit_labeledV3{total_num_examples}_nonoverlap.txt'\n",
    "\n",
    "with open(input_file_path, 'r') as f:\n",
    "    lines = f.readlines()\n",
    "    random.shuffle(lines)\n",
    "    with open(f'test_{num_digits}digit_V4{num_test_samples}.txt', 'w') as f2:\n",
    "        for line in lines[:num_test_samples]:\n",
    "            prompt = 'TTTTT ' + line.split('=')[0]+'=\\n'\n",
    "            f2.write(prompt)"
   ]
  },
  {
   "cell_type": "markdown",
   "metadata": {},
   "source": [
    "创建V4_2版本数据集，将原来80%的正确率改为50%"
   ]
  },
  {
   "cell_type": "code",
   "execution_count": 5,
   "metadata": {},
   "outputs": [],
   "source": [
    "def create_balanced_data_with_labelV4_2(filename, total_num_examples=10000, num_digits = 3):\n",
    "    num_digit_2 = int(900*total_num_examples/10000)\n",
    "    num_digit_list = [100, num_digit_2, total_num_examples - 100 - num_digit_2]\n",
    "    print(num_digit_list)\n",
    "\n",
    "    # create a list of number of carries - we target each number of carries to have the same number of examples\n",
    "    target_num_carry_examples = math.ceil(total_num_examples / (num_digits+1))\n",
    "    num_carry_list = [0 for i in range(num_digits+1)]\n",
    "\n",
    "    with open(filename, 'w') as f:\n",
    "        num_example = 0\n",
    "\n",
    "        # generate all 1 digit examples\n",
    "        # 1位加法全为正确\n",
    "        for a in range(10):\n",
    "            for b in range(10):\n",
    "                c = a + b\n",
    "                f.write(f'TTTTT {a}+{b}={c}\\n')\n",
    "                num_example += 1\n",
    "                num_carry = numCarryOps(a, b)\n",
    "                num_carry_list[num_carry] += 1\n",
    "\n",
    "        for num_digit in range(2, num_digits+1):\n",
    "            num_digit_example = 0\n",
    "            print(num_digit,  num_example, num_carry_list)\n",
    "            while num_digit_example < num_digit_list[num_digit-1] and num_example < total_num_examples:\n",
    "                # generate a random number between 0 and 10^(i+1) - 1\n",
    "                a = random.randint(0, 10**(num_digit) - 1)\n",
    "                b = random.randint(0, 10**(num_digit) - 1)\n",
    "                c = a + b\n",
    "\n",
    "                # count number of carries in c\n",
    "                num_carry = numCarryOps(a, b)\n",
    "                if num_carry_list[num_carry] < target_num_carry_examples:\n",
    "                    if random.uniform(0,1)>0.5 and random.uniform(0,1)<0.75:\n",
    "                        extra = random.randint(1, 9)\n",
    "                        f.write(f'FFFFF {a}+{b}={c}{extra}\\n')\n",
    "                    elif random.uniform(0,1)>0.75:\n",
    "                        extra = random.randint(1, 9)\n",
    "                        f.write(f'FFFFF {a}+{b}={extra}{c}\\n')\n",
    "                    else: \n",
    "                        # write the example to file\n",
    "                        f.write(f'TTTTT {a}+{b}={c}\\n')\n",
    "                    # increment num_carry_list[num_carry]\n",
    "                    num_carry_list[num_carry] += 1\n",
    "                    num_digit_example += 1\n",
    "                    num_example += 1\n",
    "                else:\n",
    "                    continue\n",
    "        \n",
    "    print(num_carry_list)"
   ]
  },
  {
   "cell_type": "code",
   "execution_count": 6,
   "metadata": {},
   "outputs": [
    {
     "name": "stdout",
     "output_type": "stream",
     "text": [
      "[100, 900, 9000]\n",
      "2 100 [55, 45, 0, 0]\n",
      "3 1000 [327, 458, 215, 0]\n",
      "[2500, 2500, 2500, 2500]\n"
     ]
    }
   ],
   "source": [
    "total_num_examples = 10000\n",
    "num_digits = 3\n",
    "input_file_path = f'train_{num_digits}digit_labeledV4_2{total_num_examples}.txt'\n",
    "if not os.path.exists(input_file_path):\n",
    "    create_balanced_data_with_labelV4_2(input_file_path, total_num_examples=total_num_examples, num_digits=3)\n",
    "else:\n",
    "    print(f'File {input_file_path} already exists')"
   ]
  },
  {
   "cell_type": "code",
   "execution_count": 7,
   "metadata": {},
   "outputs": [],
   "source": [
    "num_test_samples = 10000\n",
    "input_file_path = f'train_{num_digits}digit_labeledV3{total_num_examples}_nonoverlap.txt'\n",
    "\n",
    "with open(input_file_path, 'r') as f:\n",
    "    lines = f.readlines()\n",
    "    random.shuffle(lines)\n",
    "    with open(f'test_{num_digits}digit_V4_2{num_test_samples}.txt', 'w') as f2:\n",
    "        for line in lines[:num_test_samples]:\n",
    "            prompt = 'TTTTT ' + line.split('=')[0]+'=\\n'\n",
    "            f2.write(prompt)"
   ]
  }
 ],
 "metadata": {
  "kernelspec": {
   "display_name": "torch2",
   "language": "python",
   "name": "python3"
  },
  "language_info": {
   "codemirror_mode": {
    "name": "ipython",
    "version": 3
   },
   "file_extension": ".py",
   "mimetype": "text/x-python",
   "name": "python",
   "nbconvert_exporter": "python",
   "pygments_lexer": "ipython3",
   "version": "3.8.10"
  }
 },
 "nbformat": 4,
 "nbformat_minor": 2
}
