{
 "cells": [
  {
   "cell_type": "code",
   "execution_count": 14,
   "metadata": {},
   "outputs": [],
   "source": [
    "import math\n",
    "import random\n",
    "import os"
   ]
  },
  {
   "cell_type": "code",
   "execution_count": 15,
   "metadata": {},
   "outputs": [],
   "source": [
    "def numCarryOps(a, b):\n",
    "    a,b=int(a),int(b)\n",
    "    def digitSum(n):\n",
    "        return sum(map(int,str(n)))\n",
    "    # assert(a >= 0); assert(b >= 0);\n",
    "    return int((digitSum(a) + digitSum(b) - digitSum(a+b)) / 9)"
   ]
  },
  {
   "cell_type": "code",
   "execution_count": 16,
   "metadata": {},
   "outputs": [],
   "source": [
    "def create_non_overlap_balanced_data(filename, judge_train_file, judge_test_file, total_num_examples=10000, num_digits = 3):\n",
    "    num_digit_2 = int(900*total_num_examples/10000)\n",
    "    num_digit_list = [100, num_digit_2, total_num_examples - 100 - num_digit_2]\n",
    "    print(num_digit_list)\n",
    "\n",
    "    # create a list of number of carries - we target each number of carries to have the same number of examples\n",
    "    target_num_carry_examples = math.ceil(total_num_examples / (num_digits+1))\n",
    "    num_carry_list = [0 for i in range(num_digits+1)]\n",
    "    \n",
    "    with open(judge_train_file):\n",
    "        lines_to_remove = set()\n",
    "        with open(judge_train_file, 'r') as f:\n",
    "            for line in f.readlines():\n",
    "                lines_to_remove.add(line)\n",
    "        \n",
    "        with open(judge_test_file, 'r') as f:\n",
    "            for line in f.readlines():\n",
    "                lines_to_remove.add(line)\n",
    "\n",
    "    with open(filename, 'w') as f:\n",
    "        num_example = 0\n",
    "\n",
    "        for num_digit in range(2, num_digits+1):\n",
    "            num_digit_example = 0\n",
    "            print(num_digit,  num_example, num_carry_list)\n",
    "            while num_digit_example < num_digit_list[num_digit-1] and num_example < total_num_examples:\n",
    "                # generate a random number between 0 and 10^(i+1) - 1\n",
    "                a = random.randint(0, 10**(num_digit) - 1)\n",
    "                b = random.randint(0, 10**(num_digit) - 1)\n",
    "                c = a + b\n",
    "                line_to_add = f'{a}+{b}={c}\\n'\n",
    "                if line_to_add in lines_to_remove:\n",
    "                    continue\n",
    "                # count number of carries in c\n",
    "                num_carry = numCarryOps(a, b)\n",
    "                if num_carry_list[num_carry] < target_num_carry_examples:\n",
    "                    # write the example to file\n",
    "                    f.write(f'{a}+{b}={c}\\n')\n",
    "                    # increment num_carry_list[num_carry]\n",
    "                    num_carry_list[num_carry] += 1\n",
    "                    num_digit_example += 1\n",
    "                    num_example += 1\n",
    "                else:\n",
    "                    continue\n",
    "        \n",
    "    print(num_carry_list)"
   ]
  },
  {
   "cell_type": "code",
   "execution_count": 17,
   "metadata": {},
   "outputs": [
    {
     "name": "stdout",
     "output_type": "stream",
     "text": [
      "[100, 900, 9000]\n",
      "2 0 [0, 0, 0, 0]\n",
      "3 900 [260, 401, 239, 0]\n",
      "[2500, 2500, 2500, 2400]\n"
     ]
    }
   ],
   "source": [
    "filename = 'train_3digit_add_from_judge_10000.txt'\n",
    "judge_train_file = '../bal/train_3digit_10000.txt'\n",
    "judge_test_file = '../bal/test_3digit_10000.txt'\n",
    "\n",
    "create_non_overlap_balanced_data(filename, judge_train_file, judge_test_file)"
   ]
  },
  {
   "cell_type": "code",
   "execution_count": 18,
   "metadata": {},
   "outputs": [],
   "source": [
    "def create_non_overlap_data(judge_train_file, add_train_file, non_overlap_path):\n",
    "        lines_to_remove = set()\n",
    "        with open(judge_train_file, 'r') as f:\n",
    "            for line in f.readlines():\n",
    "                lines_to_remove.add(line)\n",
    "        with open(add_train_file, 'r') as f:\n",
    "            for line in f.readlines():\n",
    "                lines_to_remove.add(line)\n",
    "\n",
    "        print(len(lines_to_remove))\n",
    "\n",
    "        with open(non_overlap_path, 'w') as f:\n",
    "            for x in range(1000):\n",
    "                for y in range(1000):\n",
    "                    line_to_add = f'{x}+{y}={x+y}\\n'\n",
    "                    if line_to_add in lines_to_remove:\n",
    "                        lines_to_remove.remove(line_to_add)\n",
    "                    else:\n",
    "                        f.write(line_to_add)"
   ]
  },
  {
   "cell_type": "code",
   "execution_count": 19,
   "metadata": {},
   "outputs": [],
   "source": [
    "def creat_add_test(non_overlap_path, num_test_samples=10000):\n",
    "        with open(non_overlap_path, 'r') as f:\n",
    "            lines = f.readlines()\n",
    "            random.shuffle(lines)\n",
    "            with open('test_3digit_add_from_judge_10000.txt', 'w') as f2:\n",
    "                for line in lines[:num_test_samples]:\n",
    "                    prompt = line.split('=')[0]+'=\\n'\n",
    "                    f2.write(prompt)"
   ]
  },
  {
   "cell_type": "code",
   "execution_count": 20,
   "metadata": {},
   "outputs": [
    {
     "name": "stdout",
     "output_type": "stream",
     "text": [
      "19678\n"
     ]
    }
   ],
   "source": [
    "non_overlap_path='3_digit_nonoverlap.txt'\n",
    "\n",
    "create_non_overlap_data(judge_train_file=judge_train_file, add_train_file=filename, \n",
    "                        non_overlap_path=non_overlap_path)\n",
    "\n",
    "creat_add_test(non_overlap_path)"
   ]
  }
 ],
 "metadata": {
  "kernelspec": {
   "display_name": "base",
   "language": "python",
   "name": "python3"
  },
  "language_info": {
   "codemirror_mode": {
    "name": "ipython",
    "version": 3
   },
   "file_extension": ".py",
   "mimetype": "text/x-python",
   "name": "python",
   "nbconvert_exporter": "python",
   "pygments_lexer": "ipython3",
   "version": "3.8.10"
  }
 },
 "nbformat": 4,
 "nbformat_minor": 2
}
