{
 "cells": [
  {
   "cell_type": "markdown",
   "metadata": {},
   "source": [
    "在train judge的基础上添加一些eval format的例子，生成新的训练集"
   ]
  },
  {
   "cell_type": "code",
   "execution_count": 21,
   "metadata": {},
   "outputs": [],
   "source": [
    "import re\n",
    "import random\n",
    "\n",
    "input_path = 'train_3digit_judge_10000.txt'\n",
    "output_path = 'train_3digit_judge_10000_1eval.txt'\n",
    "\n",
    "with open(input_path, 'r') as f:\n",
    "    lines = f.readlines()\n",
    "    random.shuffle(lines)\n",
    "    with open(output_path, 'w') as f2:\n",
    "        length = len(lines)\n",
    "        num_eval = int(length * 0.01)\n",
    "        pattern = r\"j\\((\\w+)\\+(\\w+)=(\\w+)\\)\"\n",
    "        for i, line in enumerate(lines):\n",
    "            f2.write(line)\n",
    "            match = re.match(pattern, line)\n",
    "            if match and i<=num_eval:\n",
    "                a = int(match.group(1))\n",
    "                b = int(match.group(2))\n",
    "                c = a + b\n",
    "                f2.write(f'{a}+{b}={c}\\n')\n",
    "            else:\n",
    "                continue\n",
    "    "
   ]
  },
  {
   "cell_type": "markdown",
   "metadata": {},
   "source": [
    "在train addition的基础上添加一些judge的例子，生成新的训练集"
   ]
  },
  {
   "cell_type": "code",
   "execution_count": 22,
   "metadata": {},
   "outputs": [],
   "source": [
    "import random\n",
    "\n",
    "input_path = 'train_3digit_add_from_judge_10000.txt'\n",
    "output_path = 'train_3digit_add_from_judge_10000_1eval.txt'\n",
    "\n",
    "with open(input_path, 'r') as f:\n",
    "    lines = f.readlines()\n",
    "    random.shuffle(lines)\n",
    "    with open(output_path, 'w') as f2:\n",
    "        length = len(lines)\n",
    "        num_eval = int(length * 0.01)\n",
    "        pattern = r\"(\\w+)\\+(\\w+)=(\\w+)\"\n",
    "        for i, line in enumerate(lines):\n",
    "            f2.write(line)\n",
    "            match = re.match(pattern, line)\n",
    "            if match and i<=num_eval:\n",
    "                a = int(match.group(1))\n",
    "                b = int(match.group(2))\n",
    "                c = int(match.group(3))\n",
    "                f2.write(f'j({a}+{b}={c})~T\\n')\n",
    "                flag = random.uniform(0,1)\n",
    "                extra = random.randint(1, 9)\n",
    "                if flag > 0.5:\n",
    "                    f2.write(f'j({a}+{b}={c}{extra})~F\\n')\n",
    "                else:\n",
    "                    f2.write(f'j({a}+{b}={extra}{c})~F\\n')\n",
    "                wrong_loc = random.randint(0, 3)\n",
    "                addend = random.randint(1, 9)\n",
    "                new_result = c + addend * (10**wrong_loc)\n",
    "                f2.write(f'j({a}+{b}={new_result})~F\\n')\n",
    "            else:\n",
    "                continue\n",
    "    "
   ]
  }
 ],
 "metadata": {
  "kernelspec": {
   "display_name": "base",
   "language": "python",
   "name": "python3"
  },
  "language_info": {
   "codemirror_mode": {
    "name": "ipython",
    "version": 3
   },
   "file_extension": ".py",
   "mimetype": "text/x-python",
   "name": "python",
   "nbconvert_exporter": "python",
   "pygments_lexer": "ipython3",
   "version": "3.8.10"
  }
 },
 "nbformat": 4,
 "nbformat_minor": 2
}
