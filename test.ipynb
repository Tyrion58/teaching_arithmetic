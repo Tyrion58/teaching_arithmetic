{
 "cells": [
  {
   "cell_type": "markdown",
   "metadata": {},
   "source": [
    "# 这个notebook用来测试addition和judgement"
   ]
  },
  {
   "cell_type": "markdown",
   "metadata": {},
   "source": [
    "## 创建测试数据"
   ]
  },
  {
   "cell_type": "code",
   "execution_count": 1,
   "metadata": {},
   "outputs": [
    {
     "name": "stdout",
     "output_type": "stream",
     "text": [
      "Intel MKL WARNING: Support of Intel(R) Streaming SIMD Extensions 4.2 (Intel(R) SSE4.2) enabled only processors has been deprecated. Intel oneAPI Math Kernel Library 2025.0 will require Intel(R) Advanced Vector Extensions (Intel(R) AVX) instructions.\n",
      "Intel MKL WARNING: Support of Intel(R) Streaming SIMD Extensions 4.2 (Intel(R) SSE4.2) enabled only processors has been deprecated. Intel oneAPI Math Kernel Library 2025.0 will require Intel(R) Advanced Vector Extensions (Intel(R) AVX) instructions.\n"
     ]
    }
   ],
   "source": [
    "from main_utils import *\n",
    "mydevice = 'mps'"
   ]
  },
  {
   "cell_type": "markdown",
   "metadata": {},
   "source": [
    "主要使用了3种测试prompt\n",
    "- 为了检测model的计算能力，所有input以`T`开头，即我们只要求输出正确的计算结果，但同时我们会让模型多输出一位（判断结果是否正确），形如: `T1+2=`\n",
    "- 为了检测model在extra number型错误上的判断能力，按照训练时的方法制作negative instances。只要求模型输出一位，prompt形如：`1+2=3`和`2+3=58`\n",
    "- 为了检测model在其它错误上的判断能力，制作negative instances时以均匀分布对正确结果的其中一位采样，在该位上加1～9的随机数。只要求模型输出一位"
   ]
  },
  {
   "cell_type": "code",
   "execution_count": 2,
   "metadata": {},
   "outputs": [],
   "source": [
    "import os\n",
    "import random\n",
    "import re\n",
    "\n",
    "class create_test_data:\n",
    "    def __init__(self, non_overlap_data_path, num_test_samples=100) -> None:\n",
    "        if not os.path.exists(non_overlap_data_path):\n",
    "            raise ValueError(\"There is no nonoverlap data file\")\n",
    "        self.non_overlap_data_path = non_overlap_data_path\n",
    "        self.num_test_samples = num_test_samples\n",
    "        self.samples = None\n",
    "        # Open non-overlap data path to get a bunch of test samples\n",
    "        with open(self.non_overlap_data_path, 'r') as f:\n",
    "            lines = f.readlines()\n",
    "            random.shuffle(lines)\n",
    "            self.samples = lines[:self.num_test_samples]\n",
    "            \n",
    "        \n",
    "    def create_prompt(self):\n",
    "        \"\"\"\n",
    "        To create prompt data file like: 'Ta+b=' .\n",
    "        The output should be correct answer and judgement\n",
    "        \"\"\"\n",
    "        with open(f'prompt.txt', 'w') as f2:\n",
    "            for line in self.samples:\n",
    "                prompt = line.split('=')[0]+'=\\n'\n",
    "                f2.write(prompt)\n",
    "                    \n",
    "    def create_add_noise_judge_prompt(self):\n",
    "        \"\"\"\n",
    "        To create prompt data file like: 'a+b=c' and 'a+b=d', where 'd' means wrong answer\n",
    "        The output should be judgement\n",
    "        \"\"\"\n",
    "        with open('add_noise_judge_prompt.txt', 'w') as f3:\n",
    "            for line in self.samples:\n",
    "                # 取出表达式部分\n",
    "                prompt = line.split('T')[1]\n",
    "                # prompt = prompt.split('=')[0].strip()\n",
    "                new_prompt = self.modify_result(prompt, random.randint(1, 9), 'noise_add')\n",
    "                f3.write(new_prompt + '\\n')\n",
    "                \n",
    "    def create_extra_num_judge_prompt(self):\n",
    "        \"\"\"\n",
    "        To create prompt data file like: 'a+b=c' and 'a+b=cd', where 'd' means extra number\n",
    "        The output should be judgement\n",
    "        \"\"\"\n",
    "        with open('extra_num_judge_prompt.txt', 'w') as f4:\n",
    "            for line in self.samples:\n",
    "                # 取出表达式部分\n",
    "                prompt = line.split('T')[1]\n",
    "                # prompt = prompt.split('=')[0].strip()\n",
    "                new_prompt = self.modify_result(prompt, random.randint(1, 9), 'extra_num')\n",
    "                f4.write(new_prompt + '\\n')\n",
    "\n",
    "    \n",
    "    def modify_result(self, expression, addend, mode):\n",
    "        # 使用正则表达式提取表达式中的数字\n",
    "        match = re.match(r'(\\d+)\\+(\\d+)=(\\d+)', expression)\n",
    "    \n",
    "        if match:\n",
    "            # 提取数字并计算新的结果\n",
    "            num1 = int(match.group(1))\n",
    "            num2 = int(match.group(2))\n",
    "            result = int(match.group(3))\n",
    "            num_digit = len(match.group(3).strip())\n",
    "            if mode == 'extra_num':\n",
    "                if random.uniform(0,1)>0.5 and random.uniform(0,1)<0.75:\n",
    "                    extra = random.randint(1, 9)\n",
    "                    new_expression = f\"F{num1}+{num2}={result}{extra}\"\n",
    "                elif random.uniform(0,1)>0.75:\n",
    "                    extra = random.randint(1, 9)\n",
    "                    new_expression = f\"F{num1}+{num2}={extra}{result}\"\n",
    "                else:\n",
    "                    new_expression = f\"T{num1}+{num2}={result}\"\n",
    "            elif mode == 'noise_add':\n",
    "                if random.uniform(0,1)>0.5:\n",
    "                    # 决定添加错误的位置\n",
    "                    wrong_loc = random.randint(0, num_digit)\n",
    "        \n",
    "                    new_result = result + addend * (10**wrong_loc)\n",
    "\n",
    "                    # 构建新的表达式\n",
    "                    new_expression = f\"F{num1}+{num2}={new_result}\"\n",
    "                else:\n",
    "                    new_expression = f\"T{num1}+{num2}={result}\"\n",
    "            \n",
    "            else:\n",
    "                return \"Invalid modify pattern\"\n",
    "        \n",
    "            return new_expression\n",
    "        else:\n",
    "            return \"Invalid expression format\""
   ]
  },
  {
   "cell_type": "code",
   "execution_count": 3,
   "metadata": {},
   "outputs": [],
   "source": [
    "non_overlap_data_path = './data/get_data_with_label/train_3digit_bilabeled10000_nonoverlap.txt'\n",
    "num_examples = 10000\n",
    "creator = create_test_data(non_overlap_data_path, num_examples)"
   ]
  },
  {
   "cell_type": "code",
   "execution_count": 4,
   "metadata": {},
   "outputs": [],
   "source": [
    "creator.create_prompt()\n",
    "creator.create_add_noise_judge_prompt()\n",
    "creator.create_extra_num_judge_prompt()"
   ]
  },
  {
   "cell_type": "markdown",
   "metadata": {},
   "source": [
    "## 加载模型"
   ]
  },
  {
   "cell_type": "code",
   "execution_count": 5,
   "metadata": {},
   "outputs": [
    {
     "name": "stdout",
     "output_type": "stream",
     "text": [
      "number of parameters: 10.63M\n"
     ]
    },
    {
     "data": {
      "text/plain": [
       "<All keys matched successfully>"
      ]
     },
     "execution_count": 5,
     "metadata": {},
     "output_type": "execute_result"
    }
   ],
   "source": [
    "from model import GPTConfig, GPT\n",
    "import torch\n",
    "\n",
    "# init from a model saved in a specific directory\n",
    "ckpt_path = 'bilabel_ckpt_acc.pt'\n",
    "checkpoint = torch.load(ckpt_path, map_location=mydevice)\n",
    "gptconf = GPTConfig(**checkpoint['model_args'])\n",
    "model = GPT(gptconf)\n",
    "state_dict = checkpoint['model']\n",
    "unwanted_prefix = '_orig_mod.'\n",
    "for k,v in list(state_dict.items()):\n",
    "    if k.startswith(unwanted_prefix):\n",
    "        state_dict[k[len(unwanted_prefix):]] = state_dict.pop(k)\n",
    "model.load_state_dict(state_dict)"
   ]
  },
  {
   "cell_type": "code",
   "execution_count": 6,
   "metadata": {},
   "outputs": [],
   "source": [
    "# evaluation\n",
    "config={\n",
    "    'start': 'FILE:./data/addition_bilabel/prompt_3digit_10000.txt',\n",
    "    'device': mydevice,\n",
    "}"
   ]
  },
  {
   "cell_type": "code",
   "execution_count": 7,
   "metadata": {},
   "outputs": [
    {
     "name": "stdout",
     "output_type": "stream",
     "text": [
      "Loading meta from ./data/addition_bilabel/meta.pkl...\n"
     ]
    }
   ],
   "source": [
    "encode, decode = get_encode_decode('./data/addition_bilabel/meta.pkl')"
   ]
  },
  {
   "cell_type": "markdown",
   "metadata": {},
   "source": [
    "测试模型"
   ]
  },
  {
   "cell_type": "code",
   "execution_count": 8,
   "metadata": {},
   "outputs": [
    {
     "data": {
      "text/plain": [
       "'213+199=412T'"
      ]
     },
     "execution_count": 8,
     "metadata": {},
     "output_type": "execute_result"
    }
   ],
   "source": [
    "x = '213+199=412'\n",
    "ids = encode(x)\n",
    "input = (torch.tensor(ids, dtype=torch.long, device=mydevice)[None, ...])\n",
    "model.to(device=mydevice)\n",
    "output = model.generate(input, max_new_tokens=1)\n",
    "decode(output[0].tolist())"
   ]
  },
  {
   "cell_type": "markdown",
   "metadata": {},
   "source": [
    "## 批量测试\n",
    "\n",
    "从txt文件中读取prompt进行测试，主要分为两种测试：\n",
    "\n",
    "- 正确性测试：只关注计算结果是否正确\n",
    "- 判断测试：只关注判断结果是否正确"
   ]
  },
  {
   "cell_type": "markdown",
   "metadata": {},
   "source": [
    "读取prompt.txt，测试正确率与判断正确率"
   ]
  },
  {
   "cell_type": "code",
   "execution_count": 9,
   "metadata": {},
   "outputs": [
    {
     "name": "stdout",
     "output_type": "stream",
     "text": [
      "evaluating addition from: FILE:./prompt.txt\n"
     ]
    },
    {
     "name": "stderr",
     "output_type": "stream",
     "text": [
      "100%|██████████| 10000/10000 [00:02<00:00, 4372.09it/s]\n",
      "100%|██████████| 80/80 [00:19<00:00,  4.00it/s]"
     ]
    },
    {
     "name": "stdout",
     "output_type": "stream",
     "text": [
      "Judgement accuracy of 10000 examples: 9332/10000 (93.32000000000001%)\n",
      "accuracy of 10000 examples: 9326/10000 (93.26%)\n",
      "{'carry0': 92.07800121876905, 'carry1': 90.0326797385621, 'carry2': 95.55223880597015, 'carry3': 97.83096484667165}\n"
     ]
    },
    {
     "name": "stderr",
     "output_type": "stream",
     "text": [
      "\n"
     ]
    },
    {
     "data": {
      "text/plain": [
       "(93.32000000000001,\n",
       " 93.26,\n",
       " {'carry0': 92.07800121876905,\n",
       "  'carry1': 90.0326797385621,\n",
       "  'carry2': 95.55223880597015,\n",
       "  'carry3': 97.83096484667165})"
      ]
     },
     "execution_count": 9,
     "metadata": {},
     "output_type": "execute_result"
    }
   ],
   "source": [
    "from contextlib import nullcontext\n",
    "ctx = nullcontext()\n",
    "config={\n",
    "    'start': 'FILE:./prompt.txt',\n",
    "    'device': mydevice,\n",
    "    'temperature': 0.8\n",
    "}\n",
    "eval_addition_batch(config, model, ctx, encode, decode, judge=True)"
   ]
  },
  {
   "cell_type": "markdown",
   "metadata": {},
   "source": [
    "读取extra_num_judge_prompt.txt，测试判断能力"
   ]
  },
  {
   "cell_type": "code",
   "execution_count": 10,
   "metadata": {},
   "outputs": [
    {
     "name": "stdout",
     "output_type": "stream",
     "text": [
      "evaluating addition from: FILE:./extra_num_judge_prompt.txt\n"
     ]
    },
    {
     "name": "stderr",
     "output_type": "stream",
     "text": [
      "100%|██████████| 10000/10000 [00:02<00:00, 4183.97it/s]\n",
      "100%|██████████| 82/82 [00:07<00:00, 10.96it/s]"
     ]
    },
    {
     "name": "stdout",
     "output_type": "stream",
     "text": [
      "Judgement accuracy of 10000 examples: 9300/10000 (93.0%)\n",
      "No judging probability of 10000 examples: 592/10000 (5.92%)\n",
      "{'carry0': 89.4576477757465, 'carry1': 92.12962962962963, 'carry2': 94.2089552238806, 'carry3': 96.70905011219148}\n"
     ]
    },
    {
     "name": "stderr",
     "output_type": "stream",
     "text": [
      "\n"
     ]
    },
    {
     "data": {
      "text/plain": [
       "(93.0,\n",
       " 5.92,\n",
       " {'carry0': 89.4576477757465,\n",
       "  'carry1': 92.12962962962963,\n",
       "  'carry2': 94.2089552238806,\n",
       "  'carry3': 96.70905011219148})"
      ]
     },
     "execution_count": 10,
     "metadata": {},
     "output_type": "execute_result"
    }
   ],
   "source": [
    "ctx = nullcontext()\n",
    "config={\n",
    "    'start': 'FILE:./extra_num_judge_prompt.txt',\n",
    "    'device': mydevice,\n",
    "}\n",
    "eval_judge_batch(config, model, ctx, encode, decode)"
   ]
  },
  {
   "cell_type": "markdown",
   "metadata": {},
   "source": [
    "读取add_noise_judge_prompt.txt，测试模型判断能力"
   ]
  },
  {
   "cell_type": "code",
   "execution_count": 11,
   "metadata": {},
   "outputs": [
    {
     "name": "stdout",
     "output_type": "stream",
     "text": [
      "evaluating addition from: FILE:./add_noise_judge_prompt.txt\n"
     ]
    },
    {
     "name": "stderr",
     "output_type": "stream",
     "text": [
      "100%|██████████| 10000/10000 [00:02<00:00, 4330.17it/s]\n",
      "100%|██████████| 83/83 [00:07<00:00, 11.74it/s]"
     ]
    },
    {
     "name": "stdout",
     "output_type": "stream",
     "text": [
      "Judgement accuracy of 10000 examples: 6074/10000 (60.74%)\n",
      "No judging probability of 10000 examples: 1174/10000 (11.74%)\n",
      "{'carry0': 54.96648385131018, 'carry1': 58.08823529411765, 'carry2': 63.67164179104478, 'carry3': 67.76364996260284}\n"
     ]
    },
    {
     "name": "stderr",
     "output_type": "stream",
     "text": [
      "\n"
     ]
    },
    {
     "data": {
      "text/plain": [
       "(60.74,\n",
       " 11.74,\n",
       " {'carry0': 54.96648385131018,\n",
       "  'carry1': 58.08823529411765,\n",
       "  'carry2': 63.67164179104478,\n",
       "  'carry3': 67.76364996260284})"
      ]
     },
     "execution_count": 11,
     "metadata": {},
     "output_type": "execute_result"
    }
   ],
   "source": [
    "ctx = nullcontext()\n",
    "config={\n",
    "    'start': 'FILE:./add_noise_judge_prompt.txt',\n",
    "    'device': mydevice,\n",
    "}\n",
    "eval_judge_batch(config, model, ctx, encode, decode)"
   ]
  }
 ],
 "metadata": {
  "kernelspec": {
   "display_name": "torch2",
   "language": "python",
   "name": "python3"
  },
  "language_info": {
   "codemirror_mode": {
    "name": "ipython",
    "version": 3
   },
   "file_extension": ".py",
   "mimetype": "text/x-python",
   "name": "python",
   "nbconvert_exporter": "python",
   "pygments_lexer": "ipython3",
   "version": "3.11.5"
  }
 },
 "nbformat": 4,
 "nbformat_minor": 2
}
